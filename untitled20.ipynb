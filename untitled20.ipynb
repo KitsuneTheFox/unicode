{
  "nbformat": 4,
  "nbformat_minor": 0,
  "metadata": {
    "colab": {
      "provenance": []
    },
    "kernelspec": {
      "name": "python3",
      "display_name": "Python 3"
    },
    "language_info": {
      "name": "python"
    }
  },
  "cells": [
    {
      "cell_type": "code",
      "source": [
        "my_list = [] # объявляем пустой список, который будем наполнять элементами"
      ],
      "metadata": {
        "id": "ng50xeEqw_h-"
      },
      "execution_count": null,
      "outputs": []
    },
    {
      "cell_type": "code",
      "execution_count": null,
      "metadata": {
        "colab": {
          "base_uri": "https://localhost:8080/"
        },
        "id": "FXbeZC7CwkZD",
        "outputId": "c3bd783f-cb1a-4513-c163-8895cbcd6097"
      },
      "outputs": [
        {
          "name": "stdout",
          "output_type": "stream",
          "text": [
            "1\n"
          ]
        }
      ],
      "source": [
        "elements_N = int(input()) # сколько элементов в массиве"
      ]
    },
    {
      "cell_type": "code",
      "source": [
        "counter = 0 # ставим счётчик, который говорит, сколько элементов у нас уже лежит в списке"
      ],
      "metadata": {
        "id": "jYsoni7jyWsf"
      },
      "execution_count": null,
      "outputs": []
    },
    {
      "cell_type": "code",
      "source": [
        "# наполняем список\n",
        "\n",
        "while counter < elements_N: # пока наш счётчик меньше, чем нужно, делаем то, что внутри цикла \n",
        "  my_list.append(input()) # кладём элемент, который вводим в консоли\n",
        "  counter += 1 # увеличиваем счётчик"
      ],
      "metadata": {
        "colab": {
          "base_uri": "https://localhost:8080/"
        },
        "id": "8UK05K-AwvbW",
        "outputId": "7460ab6f-7594-44f5-81fa-0fc6be6bbb97"
      },
      "execution_count": null,
      "outputs": [
        {
          "name": "stdout",
          "output_type": "stream",
          "text": [
            "1\n"
          ]
        }
      ]
    },
    {
      "cell_type": "code",
      "source": [
        "print(my_list) # смотрим на наш наполненный список"
      ],
      "metadata": {
        "colab": {
          "base_uri": "https://localhost:8080/"
        },
        "id": "4efsg8UixZ0x",
        "outputId": "437f686c-7157-44e9-c8ea-6a1f87bb9b47"
      },
      "execution_count": null,
      "outputs": [
        {
          "output_type": "stream",
          "name": "stdout",
          "text": [
            "['1']\n"
          ]
        }
      ]
    },
    {
      "cell_type": "code",
      "source": [
        "for n in range(0, len(my_list), 2): # идём по индекам списка с шагом два — будем учитывать только элементы с чётным индексом\n",
        "  if n+1 < len(my_list): # проверяем, можем ли мы поменять текущий элемент со следующим\n",
        "    # если можем, меняем, если нет — ничего не делаем\n",
        "    temp = my_list[n+1] # сохраняем значение следующего элемента во временном хранилище\n",
        "    my_list[n+1] = my_list[n] # заменяем следующий элемент текущим\n",
        "    my_list[n] = temp # в текущий элемент записываем значение следующего, которое сохранили в начале\n"
      ],
      "metadata": {
        "id": "gGO7SK4bxdqq"
      },
      "execution_count": null,
      "outputs": []
    },
    {
      "cell_type": "code",
      "source": [
        "print(my_list) # смотрим, что изменилось"
      ],
      "metadata": {
        "colab": {
          "base_uri": "https://localhost:8080/"
        },
        "id": "tuWUputWyWHs",
        "outputId": "d785a028-6e75-4656-ae60-b4903c535bcb"
      },
      "execution_count": null,
      "outputs": [
        {
          "output_type": "stream",
          "name": "stdout",
          "text": [
            "['1']\n"
          ]
        }
      ]
    }
  ]
}